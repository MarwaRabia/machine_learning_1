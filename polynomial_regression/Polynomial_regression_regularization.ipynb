{
  "nbformat": 4,
  "nbformat_minor": 0,
  "metadata": {
    "kernelspec": {
      "display_name": "Python 3",
      "language": "python",
      "name": "python3"
    },
    "language_info": {
      "codemirror_mode": {
        "name": "ipython",
        "version": 3
      },
      "file_extension": ".py",
      "mimetype": "text/x-python",
      "name": "python",
      "nbconvert_exporter": "python",
      "pygments_lexer": "ipython3",
      "version": "3.7.6"
    },
    "colab": {
      "name": "Copy of Polynomial_regression_regularization.ipynb",
      "provenance": [],
      "collapsed_sections": []
    }
  },
  "cells": [
    {
      "cell_type": "markdown",
      "metadata": {
        "id": "eyjewtSBMA95"
      },
      "source": [
        "# Testing and regularization"
      ]
    },
    {
      "cell_type": "code",
      "metadata": {
        "id": "y_RXtj1eMCb3",
        "outputId": "220ed294-addf-4da4-b609-0c52577a6837",
        "colab": {
          "base_uri": "https://localhost:8080/"
        }
      },
      "source": [
        "!git clone https://github.com/s7s/machine_learning_1.git\n",
        "%cd  machine_learning_1/polynomial_regression"
      ],
      "execution_count": 1,
      "outputs": [
        {
          "output_type": "stream",
          "name": "stdout",
          "text": [
            "Cloning into 'machine_learning_1'...\n",
            "remote: Enumerating objects: 186, done.\u001b[K\n",
            "remote: Counting objects: 100% (186/186), done.\u001b[K\n",
            "remote: Compressing objects: 100% (134/134), done.\u001b[K\n",
            "remote: Total 186 (delta 85), reused 150 (delta 49), pack-reused 0\u001b[K\n",
            "Receiving objects: 100% (186/186), 34.12 MiB | 21.81 MiB/s, done.\n",
            "Resolving deltas: 100% (85/85), done.\n",
            "/content/machine_learning_1/polynomial_regression\n"
          ]
        }
      ]
    },
    {
      "cell_type": "code",
      "metadata": {
        "id": "YpX56PtFMA-A"
      },
      "source": [
        "import pandas as pd\n",
        "import numpy as np\n",
        "import random\n",
        "import matplotlib.pyplot as plt\n",
        "random.seed(0)"
      ],
      "execution_count": 2,
      "outputs": []
    },
    {
      "cell_type": "markdown",
      "metadata": {
        "id": "WBD0ZY2wMA-B"
      },
      "source": [
        "## Defining our dataset"
      ]
    },
    {
      "cell_type": "code",
      "metadata": {
        "id": "4sDgbZNRMA-C",
        "outputId": "2155401d-fd2f-4b2c-d48c-7ef34395ae94",
        "colab": {
          "base_uri": "https://localhost:8080/",
          "height": 269
        }
      },
      "source": [
        "# Our original polynomial is -x^2+x+15\n",
        "coefs = [15,1,-1]\n",
        "\n",
        "def polynomial(coefs, x):\n",
        "    n = len(coefs)\n",
        "    return sum([coefs[i]*x**i for i in range(n)])\n",
        "\n",
        "def draw_polynomial(coefs):\n",
        "    n = len(coefs)\n",
        "    x = np.linspace(-5, 5, 1000)\n",
        "    plt.ylim(-20,20)\n",
        "    plt.plot(x, sum([coefs[i]*x**i for i in range(n)]), linestyle='-', color='black')\n",
        "\n",
        "draw_polynomial(coefs)"
      ],
      "execution_count": 4,
      "outputs": [
        {
          "output_type": "display_data",
          "data": {
            "text/plain": [
              "<Figure size 432x288 with 1 Axes>"
            ],
            "image/png": "[encoded data removed]"
          },
          "metadata": {
            "needs_background": "light"
          }
        }
      ]
    },
    {
      "cell_type": "code",
      "metadata": {
        "id": "WvGqHRFCMA-E"
      },
      "source": [
        "X = []\n",
        "Y = []\n",
        "for i in range(40):\n",
        "    x = random.uniform(-5,5)\n",
        "    y = polynomial(coefs, x) + random.gauss(0,2)\n",
        "    X.append(x)\n",
        "    Y.append(y)\n",
        "X=np.array(X)\n",
        "Y=np.array(Y)"
      ],
      "execution_count": 5,
      "outputs": []
    },
    {
      "cell_type": "code",
      "metadata": {
        "id": "ETQxgGiFMA-E",
        "outputId": "4e2df268-1ade-405b-da6a-43f7a7eff177",
        "colab": {
          "base_uri": "https://localhost:8080/",
          "height": 269
        }
      },
      "source": [
        "plt.scatter(X, Y)\n",
        "draw_polynomial(coefs)"
      ],
      "execution_count": 12,
      "outputs": [
        {
          "output_type": "display_data",
          "data": {
            "text/plain": [
              "<Figure size 432x288 with 1 Axes>"
            ],
            "image/png": "[encoded data removed]"
          },
          "metadata": {
            "needs_background": "light"
          }
        }
      ]
    },
    {
      "cell_type": "markdown",
      "metadata": {
        "id": "wLUfmV9iMA-F"
      },
      "source": [
        "## Training a polynomial regression model"
      ]
    },
    {
      "cell_type": "code",
      "metadata": {
        "id": "xsNmJ6hoGPjb",
        "outputId": "23a14b9c-7aa0-4f3b-84c2-aef964c3aa2a",
        "colab": {
          "base_uri": "https://localhost:8080/"
        }
      },
      "source": [
        "for datasample in zip(X,Y):\n",
        "    print(datasample)"
      ],
      "execution_count": 7,
      "outputs": [
        {
          "output_type": "stream",
          "name": "stdout",
          "text": [
            "(3.4442185152504816, 6.685961311021467)\n",
            "(-2.4108324970703663, 4.690236225597948)\n",
            "(0.11274721368608542, 12.205789026637378)\n",
            "(-1.9668727392107255, 11.133217991032268)\n",
            "(-0.23403045847644144, 10.927272159051856)\n",
            "(0.046868558173902564, 12.8584762866286)\n",
            "(-2.1816215560029617, 8.16012255928749)\n",
            "(-2.4949365863755943, 3.5061587527226514)\n",
            "(4.097462559682402, 5.933186396721837)\n",
            "(4.021659504395828, 2.454299054753137)\n",
            "(-1.8985243068066735, 8.956020414039855)\n",
            "(1.8398393191544127, 9.208004401915796)\n",
            "(-0.2785728454728664, 16.36505651355184)\n",
            "(1.1088697344380165, 16.14144978027318)\n",
            "(4.130110532378982, 4.299534274468492)\n",
            "(3.6530992777164, 4.83366913200435)\n",
            "(-2.395076896080406, 7.723543125251446)\n",
            "(-4.8595829983598104, -15.848718674227753)\n",
            "(2.1970468640395415, 9.366124268570305)\n",
            "(1.6815320123185087, 16.070558182542374)\n",
            "(-4.988571806855717, -18.893035332565795)\n",
            "(-2.5608912311286804, 6.043189895391749)\n",
            "(-1.7479563725260991, 11.091071520573042)\n",
            "(0.6751074062067186, 14.272553413210698)\n",
            "(-2.6138407138477984, 9.085321805751548)\n",
            "(-0.5203042856442961, 13.47860807272069)\n",
            "(-4.195541814474646, -7.812998091307244)\n",
            "(4.3283382422690675, 2.748647759010411)\n",
            "(-3.909421540688963, -7.163796336350065)\n",
            "(0.4744091132842376, 14.257854146830486)\n",
            "(3.14466863291336, 3.2664703661537313)\n",
            "(1.0318562796138302, 13.67662422703284)\n",
            "(0.8761706417543635, 12.57404063707232)\n",
            "(-1.1509885402733957, 13.436894195835206)\n",
            "(0.7565101416488851, 14.859288476607356)\n",
            "(-3.132704717444449, 3.3081236367340967)\n",
            "(1.1277317986860673, 13.596584816754236)\n",
            "(-4.1017563880440635, -7.821475002235993)\n",
            "(2.576039219664368, 14.181083579723474)\n",
            "(3.424602231401824, 3.5269925176080537)\n"
          ]
        }
      ]
    },
    {
      "cell_type": "markdown",
      "metadata": {
        "id": "Pze2ZphQMA-G"
      },
      "source": [
        "### Adding columns to our dataset corresponding to $x^2, x^3, \\ldots, x^{200}$"
      ]
    },
    {
      "cell_type": "code",
      "metadata": {
        "id": "c2XZgASOGfVv",
        "outputId": "53707ba4-32e2-42f1-c670-2d29fda8545e",
        "colab": {
          "base_uri": "https://localhost:8080/"
        }
      },
      "source": [
        "from sklearn.preprocessing import PolynomialFeatures\n",
        "def addPoly(X,polyDegree):\n",
        "    ## TODO ##\n",
        "    #use sklearn (PolynomialFeatures method)\n",
        "    poly = PolynomialFeatures(200,include_bias=False)\n",
        "    X=poly.fit_transform(X.reshape(-1, 1))\n",
        "    return X\n",
        "\n",
        "X_poly=addPoly(X,200)\n",
        "X_poly.shape"
      ],
      "execution_count": 19,
      "outputs": [
        {
          "output_type": "execute_result",
          "data": {
            "text/plain": [
              "(40, 200)"
            ]
          },
          "metadata": {},
          "execution_count": 19
        }
      ]
    },
    {
      "cell_type": "code",
      "metadata": {
        "id": "kKXdyM7fGzLC"
      },
      "source": [
        "print(X_poly.shape)\n",
        "print(X_poly[0,:])"
      ],
      "execution_count": null,
      "outputs": []
    },
    {
      "cell_type": "markdown",
      "metadata": {
        "id": "S8uYLISVMA-H"
      },
      "source": [
        "## Splitting data into training and testing"
      ]
    },
    {
      "cell_type": "code",
      "metadata": {
        "id": "fVnfiOyqMNLg"
      },
      "source": [
        "from sklearn.model_selection import train_test_split\n",
        "## TODO ##\n",
        "# use sklearn (train_test_split) to split data to 80% training 20% testing\n",
        "X_train, X_test, y_train, y_test = train_test_split(X_poly,Y,test_size=.2)\n"
      ],
      "execution_count": 29,
      "outputs": []
    },
    {
      "cell_type": "code",
      "metadata": {
        "id": "WmHYknzXMA-I"
      },
      "source": [
        "from sklearn.metrics import mean_squared_error\n",
        "def display_results(model):\n",
        "    coefs = [model.intercept_]\n",
        "    coefs += list(model.coef_)\n",
        "    ytrain_predict=model.predict(X_train)\n",
        "    ytest_predict=model.predict(X_test)\n",
        "    train_error=np.sqrt(mean_squared_error(y_train,ytrain_predict))\n",
        "    test_error=np.sqrt(mean_squared_error(y_test,ytest_predict))\n",
        "    print(\"Training error (rmse):\", train_error)\n",
        "    print(\"Testing error (rmse):\", test_error)\n",
        "    plt.scatter(X_train[:,0], y_train, marker='o')\n",
        "    plt.scatter(X_test[:,0], y_test, marker='^')\n",
        "    draw_polynomial(coefs)\n",
        "    plt.show()\n",
        "    print(\"Polynomial coefficients\")\n",
        "    print(coefs)"
      ],
      "execution_count": 30,
      "outputs": []
    },
    {
      "cell_type": "markdown",
      "metadata": {
        "id": "G9x4Q5S3MA-I"
      },
      "source": [
        "## Training a polynomial regression model with no regularization"
      ]
    },
    {
      "cell_type": "code",
      "metadata": {
        "id": "QKm7sV7JMA-J",
        "outputId": "a6e15796-cffa-4d4c-e2ab-ec78a805b5fe",
        "colab": {
          "base_uri": "https://localhost:8080/"
        }
      },
      "source": [
        "from sklearn.linear_model import LinearRegression\n",
        "## TODO ##\n",
        "# use sklearn linear regression to fit the data \n",
        "# normalization trick ;)\n",
        "reg= LinearRegression(normalize=True)\n",
        "model_no_reg =reg.fit(X_train,y_train)"
      ],
      "execution_count": 33,
      "outputs": [
        {
          "output_type": "stream",
          "name": "stderr",
          "text": [
            "/usr/local/lib/python3.7/dist-packages/sklearn/linear_model/_base.py:145: FutureWarning: 'normalize' was deprecated in version 1.0 and will be removed in 1.2.\n",
            "If you wish to scale the data, use Pipeline with a StandardScaler in a preprocessing stage. To reproduce the previous behavior:\n",
            "\n",
            "from sklearn.pipeline import make_pipeline\n",
            "\n",
            "model = make_pipeline(StandardScaler(with_mean=False), LinearRegression())\n",
            "\n",
            "If you wish to pass a sample_weight parameter, you need to pass it as a fit parameter to each step of the pipeline as follows:\n",
            "\n",
            "kwargs = {s[0] + '__sample_weight': sample_weight for s in model.steps}\n",
            "model.fit(X, y, **kwargs)\n",
            "\n",
            "\n",
            "  FutureWarning,\n"
          ]
        }
      ]
    },
    {
      "cell_type": "code",
      "metadata": {
        "id": "uje8MamakgwD",
        "outputId": "6268688d-e522-495a-9c94-ea77da83a765",
        "colab": {
          "base_uri": "https://localhost:8080/",
          "height": 358
        }
      },
      "source": [
        "display_results(model_no_reg)"
      ],
      "execution_count": 34,
      "outputs": [
        {
          "output_type": "stream",
          "name": "stdout",
          "text": [
            "Training error (rmse): 0.1609208837591091\n",
            "Testing error (rmse): 1218540351305021.0\n"
          ]
        },
        {
          "output_type": "display_data",
          "data": {
            "text/plain": [
              "<Figure size 432x288 with 1 Axes>"
            ],
            "image/png": "[encoded data removed]"
          },
          "metadata": {
            "needs_background": "light"
          }
        },
        {
          "output_type": "stream",
          "name": "stdout",
          "text": [
            "Polynomial coefficients\n",
            "[-17.184794401170354, 242.01049116055722, 596.9341494126867, -3986.1214872429846, -395.9732045875615, 17059.047729821905, -9162.336791935772, -25468.304770961746, 18231.101137258986, 19076.75638185655, -14384.427660266816, -8570.86293228687, 5977.373586442936, 2466.3220673077144, -1430.7315294510563, -453.58349271294946, 199.44935155608064, 50.4249420444151, -14.998411554133327, -2.8895721181159555, 0.40857976786453065, 0.03344351491299876, 0.01314026050684393, 0.0034006007835237187, -0.000524101734290159, -1.1230314966560116e-05, -2.764760782595357e-05, -4.677863803512214e-06, -7.174919438441776e-08, -1.3579575232236137e-07, 3.715669923452498e-08, 7.296606279680153e-10, 1.8154273034226697e-09, 2.0886685228551231e-10, 3.8596750372497575e-11, 9.294101283966026e-12, -5.751498274255418e-13, 2.1735456135746876e-13, -9.364538087726121e-14, 4.410505660603384e-17, -5.0440008101276785e-15, -2.680962875974711e-16, -1.8630713999715111e-16, -1.5380318135059035e-17, -4.7766275814577356e-18, -5.598801947591952e-19, -4.0782221230520854e-20, -1.3815733219572075e-20, 4.6239302668929876e-21, -1.1731606292392937e-22, 3.9749198601084025e-22, 1.0331658027000874e-23, 2.1811845272580906e-23, 7.883608690954294e-25, 9.891831968290225e-25, 3.3806697614537e-26, 3.950968695809343e-26, 9.674424993511697e-28, 1.4296612663368562e-27, 7.730871791407655e-30, 4.64018853502084e-29, -1.4034981329247805e-30, 1.3111641084550736e-30, -1.3442706656402633e-31, 2.8664959687303976e-32, -8.49824016048042e-33, 1.7278441120510849e-34, -4.572700947683721e-34, -3.0076732250622706e-35, -2.2559672670267135e-35, -2.493582238401048e-36, -1.0328164875908688e-36, -1.4331973770337666e-37, -4.5265913616805764e-38, -7.147998110597405e-39, -1.9202527570663433e-39, -3.2910169305473754e-40, -7.89115111435027e-41, -1.435475422245463e-41, -3.1542930362964575e-42, -6.057939379952605e-43, -1.2384988732476504e-43, -2.4800534443552527e-44, -4.762717279710561e-45, -9.905758336404165e-46, -1.7929732662416525e-46, -3.905055107858027e-47, -6.686433448062241e-48, -1.5263654170002242e-48, -2.4583210949913624e-49, -5.856997681814754e-50, -8.871372414160064e-51, -2.235666420189865e-51, -3.1735052349730045e-52, -8.456608145606403e-53, -1.1176900104136387e-53, -3.214353113897161e-54, -3.84483964832563e-55, -1.2045939533935864e-55, -1.2833648356538434e-56, -4.5119851462208856e-57, -4.193935526284862e-58, -1.7101298269851844e-58, -1.3664291105435323e-59, -6.463136909562315e-60, -4.140684326709937e-61, -2.4378436686214832e-61, -1.1142202184033604e-62, -9.302345247401664e-63, -2.580888762712611e-64, -3.5464243202974596e-64, -2.8808405476893044e-66, -1.343371631968138e-65, 1.567318489850231e-67, -5.211321582749614e-67, 1.5896704081952743e-68, -2.0403786794509013e-68, 9.935779931371365e-70, -8.041081034074304e-70, 5.489180024772237e-71, -3.2389532177831157e-71, 2.6839522044836077e-72, -1.2566693793890259e-72, 1.3201701532969717e-73, -5.1823216232881094e-74, 5.758232088734928e-75, -2.05304043881685e-75, 2.6235067201235464e-76, -8.468572328774283e-77, 1.260714825684725e-77, -3.435540983595917e-78, 5.2810873788584804e-79, -1.4160463710618328e-79, 2.406470658638467e-80, -6.044657756797385e-81, 1.0420306100201409e-81, -2.5188301622608515e-82, 4.4582397067295714e-83, -1.0566489220113427e-83, 1.8648353581781151e-84, -4.320902593570184e-85, 8.053157723126868e-86, -1.7926039225133084e-86, 3.4778394504204142e-87, -7.774546048848713e-88, 1.527064789112677e-88, -3.155061393298638e-89, 6.255118468755448e-90, -1.374538956026989e-90, 2.67594605319978e-91, -5.6194909474563945e-92, 1.07610640342647e-92, -2.4116788382906624e-93, 4.994472280904075e-94, -9.85505113786359e-95, 2.123080062063232e-95, -4.228795318607126e-96, 9.073462827562053e-97, -1.8022495415947693e-97, 3.802657826449931e-98, -7.458855337248678e-99, 1.5133800985780468e-99, -3.3159529663140294e-100, 6.690363519466047e-101, -1.3686217951030978e-101, 2.7788371919658552e-102, -5.828518835003785e-103, 1.2179585251693505e-103, -2.5044097998319748e-104, 5.0322796357173106e-105, -1.0113217224600978e-105, 2.1831178807802865e-106, -4.364399258825486e-107, 9.159359862559985e-108, -1.860100617199841e-108, 3.862345564436375e-109, -7.876173669837133e-110, 1.629150453870172e-110, -3.375267268322228e-111, 6.975717302976793e-112, -1.4086319265645529e-112, 2.8110261492395096e-113, -6.127912306946136e-114, 1.2461473709490713e-114, -2.507729991431873e-115, 5.293230611692135e-116, -1.0548584987261776e-116, 2.1364666820585552e-117, -4.4648680369347375e-118, 9.427398597558584e-119, -1.9365159915257288e-119, 4.01146437164902e-120, -7.936171689610781e-121, 1.7118133539420542e-121, -3.4707253478715964e-122, 6.987019101137644e-123, -1.4781237350014836e-123, 3.026394665738891e-124, -6.07408255186194e-125, 1.2811163575719408e-125, -2.6207321848204505e-126]\n"
          ]
        }
      ]
    },
    {
      "cell_type": "markdown",
      "metadata": {
        "id": "TLTU-3ojMA-J"
      },
      "source": [
        "## Training a polynomial regression model with L1 regularization"
      ]
    },
    {
      "cell_type": "code",
      "metadata": {
        "id": "sBfyPNvMMA-J",
        "outputId": "0b148b33-189f-4b9f-87a7-6aeddf59891b",
        "colab": {
          "base_uri": "https://localhost:8080/"
        }
      },
      "source": [
        "from sklearn import linear_model\n",
        "## TODO ##\n",
        "# use sklearn Lasso (linear regression with L1 Norm) to fit the data \n",
        "# normalization trick ;)\n",
        "\n",
        "model_L1_reg =linear_model.Lasso(alpha=0.1,normalize=True)\n",
        "model_L1_reg .fit(X_train,y_train)"
      ],
      "execution_count": 37,
      "outputs": [
        {
          "output_type": "stream",
          "name": "stderr",
          "text": [
            "/usr/local/lib/python3.7/dist-packages/sklearn/linear_model/_base.py:145: FutureWarning: 'normalize' was deprecated in version 1.0 and will be removed in 1.2.\n",
            "If you wish to scale the data, use Pipeline with a StandardScaler in a preprocessing stage. To reproduce the previous behavior:\n",
            "\n",
            "from sklearn.pipeline import make_pipeline\n",
            "\n",
            "model = make_pipeline(StandardScaler(with_mean=False), Lasso())\n",
            "\n",
            "If you wish to pass a sample_weight parameter, you need to pass it as a fit parameter to each step of the pipeline as follows:\n",
            "\n",
            "kwargs = {s[0] + '__sample_weight': sample_weight for s in model.steps}\n",
            "model.fit(X, y, **kwargs)\n",
            "\n",
            "Set parameter alpha to: original_alpha * np.sqrt(n_samples). \n",
            "  FutureWarning,\n"
          ]
        },
        {
          "output_type": "execute_result",
          "data": {
            "text/plain": [
              "Lasso(alpha=0.1, normalize=True)"
            ]
          },
          "metadata": {},
          "execution_count": 37
        }
      ]
    },
    {
      "cell_type": "code",
      "metadata": {
        "id": "LOYlQsU5MA-K",
        "outputId": "565c7819-d332-4d30-8132-2fe9cd1412c8",
        "colab": {
          "base_uri": "https://localhost:8080/",
          "height": 358
        }
      },
      "source": [
        "display_results(model_L1_reg)"
      ],
      "execution_count": 38,
      "outputs": [
        {
          "output_type": "stream",
          "name": "stdout",
          "text": [
            "Training error (rmse): 1.96754924752743\n",
            "Testing error (rmse): 2.571531971518078\n"
          ]
        },
        {
          "output_type": "display_data",
          "data": {
            "text/plain": [
              "<Figure size 432x288 with 1 Axes>"
            ],
            "image/png": "[encoded data removed]"
          },
          "metadata": {
            "needs_background": "light"
          }
        },
        {
          "output_type": "stream",
          "name": "stdout",
          "text": [
            "Polynomial coefficients\n",
            "[13.743423558479428, 0.14493179437541892, -0.8793648694884717, 0.05748184877319829, -0.0, 0.0, -0.0, 0.0, -0.0, 0.0, -0.0, 0.0, -0.0, 0.0, -0.0, 0.0, -0.0, 0.0, -0.0, 0.0, -0.0, 0.0, -0.0, 0.0, -0.0, 0.0, -0.0, 0.0, -0.0, 0.0, -0.0, 0.0, -0.0, 0.0, -0.0, 0.0, -0.0, 0.0, -0.0, 0.0, -0.0, 0.0, -0.0, 0.0, -0.0, 0.0, -0.0, 0.0, -0.0, 0.0, -0.0, 0.0, -0.0, 0.0, -0.0, 0.0, -0.0, 0.0, -0.0, 0.0, -0.0, 0.0, -0.0, 0.0, -0.0, 0.0, -0.0, 0.0, -0.0, 0.0, -0.0, 0.0, -0.0, 0.0, -0.0, 0.0, -0.0, 0.0, -0.0, 0.0, -0.0, 0.0, -0.0, 0.0, -0.0, 0.0, -0.0, 0.0, -0.0, 0.0, -0.0, 0.0, -0.0, 0.0, -0.0, 0.0, -0.0, 0.0, -0.0, 0.0, -0.0, 0.0, -0.0, 0.0, -0.0, 0.0, -0.0, 0.0, -0.0, 0.0, -0.0, 0.0, -0.0, 0.0, -0.0, 0.0, -0.0, 0.0, -0.0, 0.0, -0.0, 0.0, -0.0, 0.0, -0.0, 0.0, -0.0, 0.0, -0.0, 0.0, -0.0, 0.0, -0.0, 0.0, -0.0, 0.0, -0.0, 0.0, -0.0, 0.0, -0.0, 0.0, -0.0, 0.0, -0.0, 0.0, -0.0, 0.0, -0.0, 0.0, -0.0, 0.0, -0.0, 0.0, -0.0, 0.0, -0.0, 0.0, -0.0, 0.0, -0.0, 0.0, -0.0, 0.0, -0.0, 0.0, -0.0, 0.0, -0.0, 0.0, -0.0, 0.0, -0.0, 0.0, -0.0, 0.0, -0.0, 0.0, -0.0, 0.0, -0.0, 0.0, -0.0, 0.0, -0.0, 0.0, -0.0, 0.0, -0.0, 0.0, -0.0, 0.0, -0.0, 0.0, -0.0, 0.0, -0.0, 0.0, -0.0, 0.0, -0.0]\n"
          ]
        }
      ]
    },
    {
      "cell_type": "markdown",
      "metadata": {
        "id": "21v4zgmbMA-K"
      },
      "source": [
        "## Training a polynomial regression model with L2 regularization"
      ]
    },
    {
      "cell_type": "code",
      "metadata": {
        "id": "MrSeiPXPMA-K",
        "outputId": "d10e7e71-444f-4f8e-fe4e-0b12505f057b",
        "colab": {
          "base_uri": "https://localhost:8080/"
        }
      },
      "source": [
        "from sklearn import linear_model\n",
        "## TODO ##\n",
        "# use sklearn Ridge (linear regression with L2 Norm) to fit the data \n",
        "# normalization trick ;)\n",
        "\n",
        "\n",
        "model_L2_reg =linear_model.Ridge(alpha=0.1,normalize=True)\n",
        "model_L2_reg .fit(X_train,y_train)"
      ],
      "execution_count": 39,
      "outputs": [
        {
          "output_type": "stream",
          "name": "stderr",
          "text": [
            "/usr/local/lib/python3.7/dist-packages/sklearn/linear_model/_base.py:145: FutureWarning: 'normalize' was deprecated in version 1.0 and will be removed in 1.2.\n",
            "If you wish to scale the data, use Pipeline with a StandardScaler in a preprocessing stage. To reproduce the previous behavior:\n",
            "\n",
            "from sklearn.pipeline import make_pipeline\n",
            "\n",
            "model = make_pipeline(StandardScaler(with_mean=False), Ridge())\n",
            "\n",
            "If you wish to pass a sample_weight parameter, you need to pass it as a fit parameter to each step of the pipeline as follows:\n",
            "\n",
            "kwargs = {s[0] + '__sample_weight': sample_weight for s in model.steps}\n",
            "model.fit(X, y, **kwargs)\n",
            "\n",
            "Set parameter alpha to: original_alpha * n_samples. \n",
            "  FutureWarning,\n"
          ]
        },
        {
          "output_type": "execute_result",
          "data": {
            "text/plain": [
              "Ridge(alpha=0.1, normalize=True)"
            ]
          },
          "metadata": {},
          "execution_count": 39
        }
      ]
    },
    {
      "cell_type": "code",
      "metadata": {
        "id": "TyLoFFM_MA-L",
        "outputId": "eb143eef-467d-4417-d8c1-df503f548028",
        "colab": {
          "base_uri": "https://localhost:8080/",
          "height": 358
        }
      },
      "source": [
        "display_results(model_L2_reg)"
      ],
      "execution_count": 40,
      "outputs": [
        {
          "output_type": "stream",
          "name": "stdout",
          "text": [
            "Training error (rmse): 1.9635992886243678\n",
            "Testing error (rmse): 112.39961604609081\n"
          ]
        },
        {
          "output_type": "display_data",
          "data": {
            "text/plain": [
              "<Figure size 432x288 with 1 Axes>"
            ],
            "image/png": "[encoded data removed]"
          },
          "metadata": {
            "needs_background": "light"
          }
        },
        {
          "output_type": "stream",
          "name": "stdout",
          "text": [
            "Polynomial coefficients\n",
            "[13.174940499828157, 0.4733724962159836, -0.556977072961269, 0.017669527011173282, -0.013804270225556865, 0.0007121882114594174, -0.0003161426377554311, 3.0709243606975385e-05, -5.677069853007684e-06, 1.2436961195137198e-06, -4.0245913527837896e-08, 4.532181019866635e-08, 2.67138305150765e-09, 1.5032524099813483e-09, 1.8719849357369275e-10, 4.636006297418468e-11, 8.489882548709745e-12, 1.3499357009864203e-12, 3.321748774034825e-13, 3.733362908163643e-14, 1.2102752306410713e-14, 9.753498137358762e-16, 4.240889531351959e-16, 2.3513811712409296e-17, 1.4535786465545746e-17, 4.882711141910837e-19, 4.924161764943569e-19, 6.559190173908084e-21, 1.6607066104953547e-20, -1.0538464890431823e-22, 5.608022251448031e-22, -1.457442353130515e-23, 1.9055933995283983e-23, -8.74680836268075e-25, 6.544697327059334e-25, -4.3269627662712705e-26, 2.2809528630943127e-26, -1.970867429735733e-27, 8.093884343912104e-28, -8.605846548345491e-29, 2.9313123210113547e-29, -3.672140589383557e-30, 1.0848863316014168e-30, -1.5472535304776395e-31, 4.1033241527011104e-32, -6.476780795026168e-33, 1.5842758110883033e-33, -2.70331365214269e-34, 6.23162559351133e-35, -1.1275138751494716e-35, 2.4908858716365138e-36, -4.705278547428892e-37, 1.0090696169686228e-37, -1.965992955138958e-38, 4.132203934308641e-39, -8.227072597587615e-40, 1.706609511071512e-40, -3.4483312909624047e-41, 7.094644914379966e-42, -1.4475962483642516e-42, 2.964024609781377e-43, -6.085599741095482e-44, 1.2429207330111898e-44, -2.561563245814345e-45, 5.2263166757978325e-46, -1.07938743776247e-46, 2.2020153501424573e-47, -4.5524789123576036e-48, 9.291356875544801e-49, -1.9215464572916313e-49, 3.9246037937907027e-50, -8.115739058690408e-51, 1.6589793240369646e-51, -3.429489830013513e-52, 7.016496246755845e-53, -1.4498164417773172e-53, 2.96869435416706e-54, -6.1311711899703215e-55, 1.2563983260556888e-55, -2.593533426475365e-56, 5.318273268950459e-57, -1.0973233545452419e-57, 2.2514913590167615e-58, -4.6435766041155785e-59, 9.53253649845575e-60, -1.965306973352873e-60, 4.036200317237003e-61, -8.318702397581503e-62, 1.7090479433003497e-62, -3.5214238639276413e-63, 7.236807453941514e-64, -1.490770073656811e-64, 3.0644099858562823e-65, -6.311410409461286e-66, 1.297630308591391e-66, -2.672148651441034e-67, 5.494870632181569e-68, -1.1313821524725327e-68, 2.32683245504949e-69, -4.790374359982357e-70, 9.853105213886504e-71, -2.0283297720950725e-71, 4.172352733715095e-72, -8.588448864948536e-73, 1.7668046303567348e-73, -3.6366076467978824e-74, 7.481617769450985e-75, -1.5398645300653766e-75, 3.168122218623645e-76, -6.52036642096336e-77, 1.341552771685669e-77, -2.7609858018655573e-78, 5.680846423765534e-79, -1.1691182817925895e-79, 2.405569111840801e-80, -4.950560638086429e-81, 1.0186434237168043e-81, -2.096291222387592e-82, 4.313463685638865e-83, -8.876665751157238e-84, 1.8265424653712534e-84, -3.7587974075439736e-85, 7.734515563188415e-86, -1.5916537585695015e-86, 3.2751879138048696e-87, -6.73982737947378e-88, 1.3868807734232404e-88, -2.8539695548893563e-89, 5.87275476254719e-90, -1.2085098741956673e-90, 2.4868206561407956e-91, -5.117422922091541e-92, 1.053045054239502e-92, -2.166968535639543e-93, 4.4591219125127053e-94, -9.176013606446953e-95, 1.8882159557608755e-95, -3.885577797444014e-96, 7.995652629050062e-97, -1.645346078905346e-97, 3.385759627192091e-98, -6.967211339696018e-99, 1.4336999991050536e-99, -2.950263219602869e-100, 6.071002540015287e-101, -1.2492880633346885e-101, 2.570765821008469e-102, -5.290106934978805e-103, 1.0885906457171344e-103, -2.2400944981026236e-104, 4.609636305120265e-105, -9.485675194984718e-106, 1.951950097821968e-106, -4.016707221672037e-107, 8.26553079779293e-108, -1.700873904928844e-108, 3.5000381417960666e-109, -7.20234747580972e-110, 1.4820907558091373e-110, -3.0498327961029117e-111, 6.275911546487466e-112, -1.2914511912144323e-112, 2.657533970696788e-113, -5.4686479916449385e-114, 1.125332422512503e-114, -2.3156981345049306e-115, 4.765218681391169e-116, -9.805820193409463e-117, 2.0178312204523275e-117, -4.152273079430891e-118, 8.544503596561728e-119, -1.7582794164558534e-119, 3.618168889089998e-120, -7.445431595469856e-121, 1.532113121022397e-121, -3.152766920170949e-122, 6.487730899969073e-123, -1.3350386943489613e-123, 2.7472287507380573e-124, -5.653219422243025e-125, 1.1633136322087914e-125, -2.393854951009759e-126, 4.92604995113393e-127, -1.0136775357643016e-127, 2.0859351620288128e-128, -4.292416075651791e-129, 8.832889516321585e-130, -1.8176229747363558e-130, 3.740285823960299e-131, -7.696721897286399e-132, 1.5838235056171155e-132, -3.259175792465598e-133, 6.706698402446323e-134, -1.3800975261601476e-134, 2.839950492508873e-135, -5.844021014929208e-136, 1.2025766351868864e-136, -2.4746498695349516e-137, 5.092309063291206e-138, -1.0478901363000208e-138, 2.1563375533432515e-139]\n"
          ]
        }
      ]
    },
    {
      "cell_type": "markdown",
      "metadata": {
        "id": "1EsLoBMqMA-L"
      },
      "source": [
        "## Viewing the predictions in the testing set"
      ]
    },
    {
      "cell_type": "code",
      "metadata": {
        "id": "TPp6zYZ6MA-L",
        "outputId": "095f8e99-0337-4257-df9a-8bec54991c99",
        "colab": {
          "base_uri": "https://localhost:8080/",
          "height": 300
        }
      },
      "source": [
        "import pandas as pd\n",
        "from IPython.display import display\n",
        "predictions={}\n",
        "predictions ['x']=X_test[:,0]\n",
        "predictions ['y']=y_test\n",
        "predictions['No reg'] = model_no_reg.predict(X_test)\n",
        "predictions['L1 reg'] = model_L1_reg.predict(X_test)\n",
        "predictions['L2 reg'] = model_L2_reg.predict(X_test)\n",
        "predictions=pd.DataFrame.from_dict(predictions)\n",
        "display(predictions)"
      ],
      "execution_count": 41,
      "outputs": [
        {
          "output_type": "display_data",
          "data": {
            "text/plain": [
              "          x          y        No reg     L1 reg      L2 reg\n",
              "0 -4.988572 -18.893035 -3.446553e+15 -15.999395  298.947120\n",
              "1 -1.747956  11.091072  1.451964e+03  10.496332   10.399629\n",
              "2  1.681532  16.070558 -1.533125e+03  11.773987   12.373073\n",
              "3 -1.898524   8.956020  2.903754e+02   9.905339    9.931879\n",
              "4  0.046869  12.858476 -4.939400e+00  13.748291   13.195905\n",
              "5  3.144669   3.266470  6.356117e+05   7.290737    8.366397\n",
              "6 -0.234030  10.927272 -3.606772e+00  13.660605   13.033383\n",
              "7 -2.560891   6.043190 -5.665454e+00   6.639857    7.211348"
            ],
            "text/html": [
              "\n",
              "  <div id=\"df-7b830fa2-94b6-4e8e-be08-cb38a380441d\">\n",
              "    <div class=\"colab-df-container\">\n",
              "      <div>\n",
              "<style scoped>\n",
              "    .dataframe tbody tr th:only-of-type {\n",
              "        vertical-align: middle;\n",
              "    }\n",
              "\n",
              "    .dataframe tbody tr th {\n",
              "        vertical-align: top;\n",
              "    }\n",
              "\n",
              "    .dataframe thead th {\n",
              "        text-align: right;\n",
              "    }\n",
              "</style>\n",
              "<table border=\"1\" class=\"dataframe\">\n",
              "  <thead>\n",
              "    <tr style=\"text-align: right;\">\n",
              "      <th></th>\n",
              "      <th>x</th>\n",
              "      <th>y</th>\n",
              "      <th>No reg</th>\n",
              "      <th>L1 reg</th>\n",
              "      <th>L2 reg</th>\n",
              "    </tr>\n",
              "  </thead>\n",
              "  <tbody>\n",
              "    <tr>\n",
              "      <th>0</th>\n",
              "      <td>-4.988572</td>\n",
              "      <td>-18.893035</td>\n",
              "      <td>-3.446553e+15</td>\n",
              "      <td>-15.999395</td>\n",
              "      <td>298.947120</td>\n",
              "    </tr>\n",
              "    <tr>\n",
              "      <th>1</th>\n",
              "      <td>-1.747956</td>\n",
              "      <td>11.091072</td>\n",
              "      <td>1.451964e+03</td>\n",
              "      <td>10.496332</td>\n",
              "      <td>10.399629</td>\n",
              "    </tr>\n",
              "    <tr>\n",
              "      <th>2</th>\n",
              "      <td>1.681532</td>\n",
              "      <td>16.070558</td>\n",
              "      <td>-1.533125e+03</td>\n",
              "      <td>11.773987</td>\n",
              "      <td>12.373073</td>\n",
              "    </tr>\n",
              "    <tr>\n",
              "      <th>3</th>\n",
              "      <td>-1.898524</td>\n",
              "      <td>8.956020</td>\n",
              "      <td>2.903754e+02</td>\n",
              "      <td>9.905339</td>\n",
              "      <td>9.931879</td>\n",
              "    </tr>\n",
              "    <tr>\n",
              "      <th>4</th>\n",
              "      <td>0.046869</td>\n",
              "      <td>12.858476</td>\n",
              "      <td>-4.939400e+00</td>\n",
              "      <td>13.748291</td>\n",
              "      <td>13.195905</td>\n",
              "    </tr>\n",
              "    <tr>\n",
              "      <th>5</th>\n",
              "      <td>3.144669</td>\n",
              "      <td>3.266470</td>\n",
              "      <td>6.356117e+05</td>\n",
              "      <td>7.290737</td>\n",
              "      <td>8.366397</td>\n",
              "    </tr>\n",
              "    <tr>\n",
              "      <th>6</th>\n",
              "      <td>-0.234030</td>\n",
              "      <td>10.927272</td>\n",
              "      <td>-3.606772e+00</td>\n",
              "      <td>13.660605</td>\n",
              "      <td>13.033383</td>\n",
              "    </tr>\n",
              "    <tr>\n",
              "      <th>7</th>\n",
              "      <td>-2.560891</td>\n",
              "      <td>6.043190</td>\n",
              "      <td>-5.665454e+00</td>\n",
              "      <td>6.639857</td>\n",
              "      <td>7.211348</td>\n",
              "    </tr>\n",
              "  </tbody>\n",
              "</table>\n",
              "</div>\n",
              "      <button class=\"colab-df-convert\" onclick=\"convertToInteractive('df-7b830fa2-94b6-4e8e-be08-cb38a380441d')\"\n",
              "              title=\"Convert this dataframe to an interactive table.\"\n",
              "              style=\"display:none;\">\n",
              "        \n",
              "  <svg xmlns=\"http://www.w3.org/2000/svg\" height=\"24px\"viewBox=\"0 0 24 24\"\n",
              "       width=\"24px\">\n",
              "    <path d=\"M0 0h24v24H0V0z\" fill=\"none\"/>\n",
              "    <path d=\"M18.56 5.44l.94 2.06.94-2.06 2.06-.94-2.06-.94-.94-2.06-.94 2.06-2.06.94zm-11 1L8.5 8.5l.94-2.06 2.06-.94-2.06-.94L8.5 2.5l-.94 2.06-2.06.94zm10 10l.94 2.06.94-2.06 2.06-.94-2.06-.94-.94-2.06-.94 2.06-2.06.94z\"/><path d=\"M17.41 7.96l-1.37-1.37c-.4-.4-.92-.59-1.43-.59-.52 0-1.04.2-1.43.59L10.3 9.45l-7.72 7.72c-.78.78-.78 2.05 0 2.83L4 21.41c.39.39.9.59 1.41.59.51 0 1.02-.2 1.41-.59l7.78-7.78 2.81-2.81c.8-.78.8-2.07 0-2.86zM5.41 20L4 18.59l7.72-7.72 1.47 1.35L5.41 20z\"/>\n",
              "  </svg>\n",
              "      </button>\n",
              "      \n",
              "  <style>\n",
              "    .colab-df-container {\n",
              "      display:flex;\n",
              "      flex-wrap:wrap;\n",
              "      gap: 12px;\n",
              "    }\n",
              "\n",
              "    .colab-df-convert {\n",
              "      background-color: #E8F0FE;\n",
              "      border: none;\n",
              "      border-radius: 50%;\n",
              "      cursor: pointer;\n",
              "      display: none;\n",
              "      fill: #1967D2;\n",
              "      height: 32px;\n",
              "      padding: 0 0 0 0;\n",
              "      width: 32px;\n",
              "    }\n",
              "\n",
              "    .colab-df-convert:hover {\n",
              "      background-color: #E2EBFA;\n",
              "      box-shadow: 0px 1px 2px rgba(60, 64, 67, 0.3), 0px 1px 3px 1px rgba(60, 64, 67, 0.15);\n",
              "      fill: #174EA6;\n",
              "    }\n",
              "\n",
              "    [theme=dark] .colab-df-convert {\n",
              "      background-color: #3B4455;\n",
              "      fill: #D2E3FC;\n",
              "    }\n",
              "\n",
              "    [theme=dark] .colab-df-convert:hover {\n",
              "      background-color: #434B5C;\n",
              "      box-shadow: 0px 1px 3px 1px rgba(0, 0, 0, 0.15);\n",
              "      filter: drop-shadow(0px 1px 2px rgba(0, 0, 0, 0.3));\n",
              "      fill: #FFFFFF;\n",
              "    }\n",
              "  </style>\n",
              "\n",
              "      <script>\n",
              "        const buttonEl =\n",
              "          document.querySelector('#df-7b830fa2-94b6-4e8e-be08-cb38a380441d button.colab-df-convert');\n",
              "        buttonEl.style.display =\n",
              "          google.colab.kernel.accessAllowed ? 'block' : 'none';\n",
              "\n",
              "        async function convertToInteractive(key) {\n",
              "          const element = document.querySelector('#df-7b830fa2-94b6-4e8e-be08-cb38a380441d');\n",
              "          const dataTable =\n",
              "            await google.colab.kernel.invokeFunction('convertToInteractive',\n",
              "                                                     [key], {});\n",
              "          if (!dataTable) return;\n",
              "\n",
              "          const docLinkHtml = 'Like what you see? Visit the ' +\n",
              "            '<a target=\"_blank\" href=https://colab.research.google.com/notebooks/data_table.ipynb>data table notebook</a>'\n",
              "            + ' to learn more about interactive tables.';\n",
              "          element.innerHTML = '';\n",
              "          dataTable['output_type'] = 'display_data';\n",
              "          await google.colab.output.renderOutput(dataTable, element);\n",
              "          const docLink = document.createElement('div');\n",
              "          docLink.innerHTML = docLinkHtml;\n",
              "          element.appendChild(docLink);\n",
              "        }\n",
              "      </script>\n",
              "    </div>\n",
              "  </div>\n",
              "  "
            ]
          },
          "metadata": {}
        }
      ]
    },
    {
      "cell_type": "code",
      "source": [
        ""
      ],
      "metadata": {
        "id": "7bQven8nyFJ5"
      },
      "execution_count": null,
      "outputs": []
    }
  ]
}